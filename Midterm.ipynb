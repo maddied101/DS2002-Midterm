{
 "cells": [
  {
   "cell_type": "markdown",
   "id": "296da1ec-13c8-41ad-abc0-f7c7701f9dc3",
   "metadata": {},
   "source": [
    "## Midterm Project - Madison Dietl\n",
    "I drew from the Sakila database to create my data warehouse, and will be modeling the business process of movie rentals. In my notebook, I start by declaring my connection variables and defining my data getters and setters. I then create my data warehouse and import data from 3 sources (MYSQL, csv file, and MongoDB with a json file) to create dimension tables, and then transform them. Next, I create a fact table, merge important data to it, and make transformations to create foreign keys and organize the table. Finally, I load all my new dimension tables into my data warehouse. I tested it with two SELECT statements that draw from two of the dimension tables (customer & staff) and the fact table. Thanks for reading!\n",
    "#### Import necessary libraries"
   ]
  },
  {
   "cell_type": "code",
   "execution_count": 1,
   "id": "32af1790-a310-4b53-b96f-282d0fe244f0",
   "metadata": {},
   "outputs": [],
   "source": [
    "import os\n",
    "import numpy\n",
    "import pandas as pd\n",
    "from sqlalchemy import create_engine\n",
    "import json\n",
    "import datetime\n",
    "import pymongo"
   ]
  },
  {
   "cell_type": "markdown",
   "id": "38743795-bd2d-469c-b76f-a637a42537bb",
   "metadata": {},
   "source": [
    "#### Declare and assign connection variables"
   ]
  },
  {
   "cell_type": "code",
   "execution_count": 2,
   "id": "e462b337-bd22-4f3c-a4a8-d674a83a75e8",
   "metadata": {},
   "outputs": [
    {
     "name": "stdout",
     "output_type": "stream",
     "text": [
      "Local Connection String: mongodb://localhost:27017/\n"
     ]
    }
   ],
   "source": [
    "host_name = \"localhost\"\n",
    "host_ip = \"127.0.0.1\"\n",
    "port = \"3306\"\n",
    "user_id = \"root\"\n",
    "pwd = \"Passw0rd123\"\n",
    "\n",
    "src_dbname = \"sakila\"\n",
    "dst_dbname = \"sakila_dw2\"\n",
    "\n",
    "mysql_uid = \"test\"\n",
    "mysql_pwd = \"Peachesrule1\"\n",
    "mysql_host= \"ds2002-mysql.mysql.database.azure.com\"\n",
    "\n",
    "conn_str = {\"local\" : f\"mongodb://localhost:27017/\"}\n",
    "\n",
    "print(f\"Local Connection String: {conn_str['local']}\")"
   ]
  },
  {
   "cell_type": "markdown",
   "id": "d77e5234-cc74-418e-b773-0f470002421a",
   "metadata": {},
   "source": [
    "#### Define functions for getting data from and setting data into databases"
   ]
  },
  {
   "cell_type": "code",
   "execution_count": 3,
   "id": "3c80f43d-47d2-4497-9155-1aba2be5f666",
   "metadata": {},
   "outputs": [],
   "source": [
    "def get_dataframe(user_id, pwd, host_name, db_name, sql_query):\n",
    "    conn_str = f\"mysql+pymysql://{user_id}:{pwd}@{host_name}/{db_name}\"\n",
    "    sqlEngine = create_engine(conn_str, pool_recycle=3600)\n",
    "    connection = sqlEngine.connect()\n",
    "    dframe = pd.read_sql(sql_query, connection);\n",
    "    connection.close()\n",
    "    \n",
    "    return dframe\n",
    "\n",
    "def get_sql_dataframe(user_id, pwd, host_name, db_name, sql_query):\n",
    "    '''Create a connection to the MySQL database'''\n",
    "    conn_str = f\"mysql+pymysql://{user_id}:{pwd}@{host_name}/{db_name}\"\n",
    "    sqlEngine = create_engine(conn_str, pool_recycle=3600)\n",
    "    \n",
    "    '''Invoke the pd.read_sql() function to query the database, and fill a Pandas DataFrame.'''\n",
    "    conn = sqlEngine.connect()\n",
    "    dframe = pd.read_sql(sql_query, conn);\n",
    "    conn.close()\n",
    "    \n",
    "    return dframe\n",
    "\n",
    "def get_mongo_dataframe(connect_str, db_name, collection, query):\n",
    "    '''Create a connection to MongoDB'''\n",
    "    client = pymongo.MongoClient(connect_str)\n",
    "    \n",
    "    '''Query MongoDB, and fill a python list with documents to create a DataFrame'''\n",
    "    db = client[db_name]\n",
    "    dframe = pd.DataFrame(list(db[collection].find(query)))\n",
    "    dframe.drop(['_id'], axis=1, inplace=True)\n",
    "    client.close()\n",
    "    return dframe\n",
    "\n",
    "\n",
    "def set_dataframe(user_id, pwd, host_name, db_name, df, table_name, pk_column, db_operation):\n",
    "    conn_str = f\"mysql+pymysql://{user_id}:{pwd}@{host_name}/{db_name}\"\n",
    "    sqlEngine = create_engine(conn_str, pool_recycle=3600)\n",
    "    connection = sqlEngine.connect()\n",
    "    \n",
    "    if db_operation == \"insert\":\n",
    "        df.to_sql(table_name, con=connection, index=False, if_exists='replace')\n",
    "        sqlEngine.execute(f\"ALTER TABLE {table_name} ADD PRIMARY KEY ({pk_column});\")\n",
    "            \n",
    "    elif db_operation == \"update\":\n",
    "        df.to_sql(table_name, con=connection, index=False, if_exists='append')\n",
    "    \n",
    "    connection.close()"
   ]
  },
  {
   "cell_type": "markdown",
   "id": "41530539-57f8-4d54-9693-4d469232f5a3",
   "metadata": {},
   "source": [
    "#### Create new data warehouse"
   ]
  },
  {
   "cell_type": "code",
   "execution_count": 4,
   "id": "d646cd63-6fff-4677-ba55-93983bca7c5a",
   "metadata": {},
   "outputs": [
    {
     "data": {
      "text/plain": [
       "<sqlalchemy.engine.cursor.LegacyCursorResult at 0x168a9dcf700>"
      ]
     },
     "execution_count": 4,
     "metadata": {},
     "output_type": "execute_result"
    }
   ],
   "source": [
    "conn_str = f\"mysql+pymysql://{user_id}:{pwd}@{host_name}\"\n",
    "sqlEngine = create_engine(conn_str, pool_recycle=3600)\n",
    "\n",
    "sqlEngine.execute(f\"DROP DATABASE IF EXISTS `{dst_dbname}`;\")\n",
    "sqlEngine.execute(f\"CREATE DATABASE `{dst_dbname}`;\")\n",
    "sqlEngine.execute(f\"USE {dst_dbname};\")"
   ]
  },
  {
   "cell_type": "markdown",
   "id": "7e9128ba-e068-4f4a-9f99-04cac5fe7805",
   "metadata": {},
   "source": [
    "#### Import data from MYSQL"
   ]
  },
  {
   "cell_type": "code",
   "execution_count": 5,
   "id": "bf783d8d-4390-4af2-b7c1-f61261b0a939",
   "metadata": {},
   "outputs": [
    {
     "data": {
      "text/html": [
       "<div>\n",
       "<style scoped>\n",
       "    .dataframe tbody tr th:only-of-type {\n",
       "        vertical-align: middle;\n",
       "    }\n",
       "\n",
       "    .dataframe tbody tr th {\n",
       "        vertical-align: top;\n",
       "    }\n",
       "\n",
       "    .dataframe thead th {\n",
       "        text-align: right;\n",
       "    }\n",
       "</style>\n",
       "<table border=\"1\" class=\"dataframe\">\n",
       "  <thead>\n",
       "    <tr style=\"text-align: right;\">\n",
       "      <th></th>\n",
       "      <th>inventory_id</th>\n",
       "      <th>last_update</th>\n",
       "      <th>rental_rate</th>\n",
       "      <th>film_id</th>\n",
       "    </tr>\n",
       "  </thead>\n",
       "  <tbody>\n",
       "    <tr>\n",
       "      <th>0</th>\n",
       "      <td>1</td>\n",
       "      <td>2006-02-15 05:09:17</td>\n",
       "      <td>0.99</td>\n",
       "      <td>1</td>\n",
       "    </tr>\n",
       "    <tr>\n",
       "      <th>1</th>\n",
       "      <td>2</td>\n",
       "      <td>2006-02-15 05:09:17</td>\n",
       "      <td>0.99</td>\n",
       "      <td>1</td>\n",
       "    </tr>\n",
       "  </tbody>\n",
       "</table>\n",
       "</div>"
      ],
      "text/plain": [
       "   inventory_id         last_update  rental_rate  film_id\n",
       "0             1 2006-02-15 05:09:17         0.99        1\n",
       "1             2 2006-02-15 05:09:17         0.99        1"
      ]
     },
     "execution_count": 5,
     "metadata": {},
     "output_type": "execute_result"
    }
   ],
   "source": [
    "sql_inventory = \"\"\" \n",
    "SELECT i.inventory_id,\n",
    "i.last_update,\n",
    "f.rental_rate,\n",
    "f.film_id AS film_id\n",
    "FROM sakila.inventory AS i\n",
    "INNER JOIN sakila.film AS f\n",
    "ON i.film_id = f.film_id;\n",
    "\"\"\"\n",
    "\n",
    "df_inventory = get_dataframe(user_id, pwd, host_name, src_dbname, sql_inventory)\n",
    "df_inventory.head(2)"
   ]
  },
  {
   "cell_type": "code",
   "execution_count": 6,
   "id": "a6d89f63-d33e-4403-b507-e5ae43dced79",
   "metadata": {},
   "outputs": [
    {
     "data": {
      "text/html": [
       "<div>\n",
       "<style scoped>\n",
       "    .dataframe tbody tr th:only-of-type {\n",
       "        vertical-align: middle;\n",
       "    }\n",
       "\n",
       "    .dataframe tbody tr th {\n",
       "        vertical-align: top;\n",
       "    }\n",
       "\n",
       "    .dataframe thead th {\n",
       "        text-align: right;\n",
       "    }\n",
       "</style>\n",
       "<table border=\"1\" class=\"dataframe\">\n",
       "  <thead>\n",
       "    <tr style=\"text-align: right;\">\n",
       "      <th></th>\n",
       "      <th>payment_id</th>\n",
       "      <th>customer_id</th>\n",
       "      <th>staff_id</th>\n",
       "      <th>rental_id</th>\n",
       "      <th>amount</th>\n",
       "      <th>payment_date</th>\n",
       "      <th>last_update</th>\n",
       "    </tr>\n",
       "  </thead>\n",
       "  <tbody>\n",
       "    <tr>\n",
       "      <th>0</th>\n",
       "      <td>1</td>\n",
       "      <td>1</td>\n",
       "      <td>1</td>\n",
       "      <td>76</td>\n",
       "      <td>2.99</td>\n",
       "      <td>2005-05-25 11:30:37</td>\n",
       "      <td>2006-02-15 22:12:30</td>\n",
       "    </tr>\n",
       "    <tr>\n",
       "      <th>1</th>\n",
       "      <td>2</td>\n",
       "      <td>1</td>\n",
       "      <td>1</td>\n",
       "      <td>573</td>\n",
       "      <td>0.99</td>\n",
       "      <td>2005-05-28 10:35:23</td>\n",
       "      <td>2006-02-15 22:12:30</td>\n",
       "    </tr>\n",
       "  </tbody>\n",
       "</table>\n",
       "</div>"
      ],
      "text/plain": [
       "   payment_id  customer_id  staff_id  rental_id  amount        payment_date  \\\n",
       "0           1            1         1         76    2.99 2005-05-25 11:30:37   \n",
       "1           2            1         1        573    0.99 2005-05-28 10:35:23   \n",
       "\n",
       "          last_update  \n",
       "0 2006-02-15 22:12:30  \n",
       "1 2006-02-15 22:12:30  "
      ]
     },
     "execution_count": 6,
     "metadata": {},
     "output_type": "execute_result"
    }
   ],
   "source": [
    "sql_payment = \"SELECT * FROM sakila.payment;\"\n",
    "df_payment = get_dataframe(user_id, pwd, host_name, src_dbname, sql_payment)\n",
    "df_payment.head(2)"
   ]
  },
  {
   "cell_type": "markdown",
   "id": "3e56ab1d-601b-4e26-be75-98f480a68601",
   "metadata": {},
   "source": [
    "#### Read in CSV files with Sakila data"
   ]
  },
  {
   "cell_type": "code",
   "execution_count": 7,
   "id": "f4ec23d2-168a-41a8-ba67-571c5963e3d6",
   "metadata": {},
   "outputs": [
    {
     "data": {
      "text/html": [
       "<div>\n",
       "<style scoped>\n",
       "    .dataframe tbody tr th:only-of-type {\n",
       "        vertical-align: middle;\n",
       "    }\n",
       "\n",
       "    .dataframe tbody tr th {\n",
       "        vertical-align: top;\n",
       "    }\n",
       "\n",
       "    .dataframe thead th {\n",
       "        text-align: right;\n",
       "    }\n",
       "</style>\n",
       "<table border=\"1\" class=\"dataframe\">\n",
       "  <thead>\n",
       "    <tr style=\"text-align: right;\">\n",
       "      <th></th>\n",
       "      <th>staff_id</th>\n",
       "      <th>first_name</th>\n",
       "      <th>last_name</th>\n",
       "      <th>address_id</th>\n",
       "      <th>picture</th>\n",
       "      <th>email</th>\n",
       "      <th>store_id</th>\n",
       "      <th>active</th>\n",
       "      <th>username</th>\n",
       "      <th>password</th>\n",
       "      <th>last_update</th>\n",
       "    </tr>\n",
       "  </thead>\n",
       "  <tbody>\n",
       "    <tr>\n",
       "      <th>0</th>\n",
       "      <td>1</td>\n",
       "      <td>Mike</td>\n",
       "      <td>Hillyer</td>\n",
       "      <td>3</td>\n",
       "      <td>...</td>\n",
       "      <td>Mike.Hillyer@sakilastaff.com</td>\n",
       "      <td>1</td>\n",
       "      <td>1</td>\n",
       "      <td>Mike</td>\n",
       "      <td>8cb2237d0679ca88db6464eac60da96345513964</td>\n",
       "      <td>2006-02-15 03:57:16</td>\n",
       "    </tr>\n",
       "    <tr>\n",
       "      <th>1</th>\n",
       "      <td>2</td>\n",
       "      <td>Jon</td>\n",
       "      <td>Stephens</td>\n",
       "      <td>4</td>\n",
       "      <td>NaN</td>\n",
       "      <td>Jon.Stephens@sakilastaff.com</td>\n",
       "      <td>2</td>\n",
       "      <td>1</td>\n",
       "      <td>Jon</td>\n",
       "      <td>NaN</td>\n",
       "      <td>2006-02-15 03:57:16</td>\n",
       "    </tr>\n",
       "  </tbody>\n",
       "</table>\n",
       "</div>"
      ],
      "text/plain": [
       "   staff_id first_name last_name  address_id picture  \\\n",
       "0         1       Mike   Hillyer           3     ...   \n",
       "1         2        Jon  Stephens           4     NaN   \n",
       "\n",
       "                          email  store_id  active username  \\\n",
       "0  Mike.Hillyer@sakilastaff.com         1       1     Mike   \n",
       "1  Jon.Stephens@sakilastaff.com         2       1      Jon   \n",
       "\n",
       "                                   password          last_update  \n",
       "0  8cb2237d0679ca88db6464eac60da96345513964  2006-02-15 03:57:16  \n",
       "1                                       NaN  2006-02-15 03:57:16  "
      ]
     },
     "execution_count": 7,
     "metadata": {},
     "output_type": "execute_result"
    }
   ],
   "source": [
    "data_dir = os.path.join(os.getcwd(), 'sakilacsv')\n",
    "data_file = os.path.join(data_dir, 'sakila.staff.csv')\n",
    "\n",
    "df_staff = pd.read_csv(data_file, header=0)\n",
    "df_staff.head(2)"
   ]
  },
  {
   "cell_type": "markdown",
   "id": "f7afd3c3-51d5-40ce-be53-5460a057e23b",
   "metadata": {},
   "source": [
    "#### Populate MongoDB with source data"
   ]
  },
  {
   "cell_type": "code",
   "execution_count": 8,
   "id": "318d76f4-2420-408b-9eff-886f8db0d788",
   "metadata": {},
   "outputs": [],
   "source": [
    "client = pymongo.MongoClient(\"mongodb://localhost:27017/\")\n",
    "db = client[src_dbname]\n",
    "\n",
    "# Gets the path of the Current Working Directory for this Notebook, and then Appends the 'data' directory.\n",
    "data_dir = os.path.join(os.getcwd(), 'sakilajson')\n",
    "\n",
    "json_files = {\"customer\" : 'sakila.customer.json'}\n",
    "\n",
    "for file in json_files:\n",
    "    db.drop_collection(file)\n",
    "    json_file = os.path.join(data_dir, json_files[file])\n",
    "    with open(json_file, 'r') as openfile:\n",
    "        json_object = json.load(openfile)\n",
    "        file = db[file]\n",
    "        result = file.insert_many(json_object)\n",
    "        #print(f\"{file} was successfully loaded.\")\n",
    "\n",
    "        \n",
    "client.close() "
   ]
  },
  {
   "cell_type": "markdown",
   "id": "e51d94ab-ca2a-4c6c-8e1e-e400da23ced8",
   "metadata": {},
   "source": [
    "#### Extract data from Mongo"
   ]
  },
  {
   "cell_type": "code",
   "execution_count": 9,
   "id": "55a9117f-6b4b-4875-a626-ea4b0e274547",
   "metadata": {},
   "outputs": [
    {
     "data": {
      "text/html": [
       "<div>\n",
       "<style scoped>\n",
       "    .dataframe tbody tr th:only-of-type {\n",
       "        vertical-align: middle;\n",
       "    }\n",
       "\n",
       "    .dataframe tbody tr th {\n",
       "        vertical-align: top;\n",
       "    }\n",
       "\n",
       "    .dataframe thead th {\n",
       "        text-align: right;\n",
       "    }\n",
       "</style>\n",
       "<table border=\"1\" class=\"dataframe\">\n",
       "  <thead>\n",
       "    <tr style=\"text-align: right;\">\n",
       "      <th></th>\n",
       "      <th>customer_id</th>\n",
       "      <th>store_id</th>\n",
       "      <th>first_name</th>\n",
       "      <th>last_name</th>\n",
       "      <th>email</th>\n",
       "      <th>address_id</th>\n",
       "      <th>active</th>\n",
       "      <th>create_date</th>\n",
       "      <th>last_update</th>\n",
       "    </tr>\n",
       "  </thead>\n",
       "  <tbody>\n",
       "    <tr>\n",
       "      <th>0</th>\n",
       "      <td>1</td>\n",
       "      <td>1</td>\n",
       "      <td>MARY</td>\n",
       "      <td>SMITH</td>\n",
       "      <td>MARY.SMITH@sakilacustomer.org</td>\n",
       "      <td>5</td>\n",
       "      <td>1</td>\n",
       "      <td>2006-02-14 22:04:36</td>\n",
       "      <td>2006-02-15 04:57:20</td>\n",
       "    </tr>\n",
       "    <tr>\n",
       "      <th>1</th>\n",
       "      <td>2</td>\n",
       "      <td>1</td>\n",
       "      <td>PATRICIA</td>\n",
       "      <td>JOHNSON</td>\n",
       "      <td>PATRICIA.JOHNSON@sakilacustomer.org</td>\n",
       "      <td>6</td>\n",
       "      <td>1</td>\n",
       "      <td>2006-02-14 22:04:36</td>\n",
       "      <td>2006-02-15 04:57:20</td>\n",
       "    </tr>\n",
       "  </tbody>\n",
       "</table>\n",
       "</div>"
      ],
      "text/plain": [
       "   customer_id  store_id first_name last_name  \\\n",
       "0            1         1       MARY     SMITH   \n",
       "1            2         1   PATRICIA   JOHNSON   \n",
       "\n",
       "                                 email  address_id  active  \\\n",
       "0        MARY.SMITH@sakilacustomer.org           5       1   \n",
       "1  PATRICIA.JOHNSON@sakilacustomer.org           6       1   \n",
       "\n",
       "           create_date          last_update  \n",
       "0  2006-02-14 22:04:36  2006-02-15 04:57:20  \n",
       "1  2006-02-14 22:04:36  2006-02-15 04:57:20  "
      ]
     },
     "execution_count": 9,
     "metadata": {},
     "output_type": "execute_result"
    }
   ],
   "source": [
    "query = {}\n",
    "collection = \"customer\"\n",
    "\n",
    "df_customer = get_mongo_dataframe(\"mongodb://localhost:27017/\", src_dbname, collection, query)\n",
    "df_customer.head(2)"
   ]
  },
  {
   "cell_type": "markdown",
   "id": "4c5579a9-384c-4200-b297-ed1f53ad7d1f",
   "metadata": {},
   "source": [
    "#### Make necessary transformations to dimension tables"
   ]
  },
  {
   "cell_type": "code",
   "execution_count": 10,
   "id": "aedd7ca7-7a3a-4faa-87dd-90eed4a8f423",
   "metadata": {},
   "outputs": [
    {
     "data": {
      "text/html": [
       "<div>\n",
       "<style scoped>\n",
       "    .dataframe tbody tr th:only-of-type {\n",
       "        vertical-align: middle;\n",
       "    }\n",
       "\n",
       "    .dataframe tbody tr th {\n",
       "        vertical-align: top;\n",
       "    }\n",
       "\n",
       "    .dataframe thead th {\n",
       "        text-align: right;\n",
       "    }\n",
       "</style>\n",
       "<table border=\"1\" class=\"dataframe\">\n",
       "  <thead>\n",
       "    <tr style=\"text-align: right;\">\n",
       "      <th></th>\n",
       "      <th>rental_id</th>\n",
       "      <th>amount</th>\n",
       "      <th>payment_date</th>\n",
       "    </tr>\n",
       "  </thead>\n",
       "  <tbody>\n",
       "    <tr>\n",
       "      <th>0</th>\n",
       "      <td>76</td>\n",
       "      <td>2.99</td>\n",
       "      <td>2005-05-25 11:30:37</td>\n",
       "    </tr>\n",
       "    <tr>\n",
       "      <th>1</th>\n",
       "      <td>573</td>\n",
       "      <td>0.99</td>\n",
       "      <td>2005-05-28 10:35:23</td>\n",
       "    </tr>\n",
       "  </tbody>\n",
       "</table>\n",
       "</div>"
      ],
      "text/plain": [
       "   rental_id  amount        payment_date\n",
       "0         76    2.99 2005-05-25 11:30:37\n",
       "1        573    0.99 2005-05-28 10:35:23"
      ]
     },
     "execution_count": 10,
     "metadata": {},
     "output_type": "execute_result"
    }
   ],
   "source": [
    "drop_columns = ['payment_id','customer_id','staff_id','last_update']\n",
    "df_payment.drop(drop_columns, axis=1, inplace=True)\n",
    "\n",
    "df_payment.head(2)"
   ]
  },
  {
   "cell_type": "code",
   "execution_count": 11,
   "id": "73d0b583-83d0-46c2-b907-e8553e0ef16e",
   "metadata": {},
   "outputs": [
    {
     "data": {
      "text/html": [
       "<div>\n",
       "<style scoped>\n",
       "    .dataframe tbody tr th:only-of-type {\n",
       "        vertical-align: middle;\n",
       "    }\n",
       "\n",
       "    .dataframe tbody tr th {\n",
       "        vertical-align: top;\n",
       "    }\n",
       "\n",
       "    .dataframe thead th {\n",
       "        text-align: right;\n",
       "    }\n",
       "</style>\n",
       "<table border=\"1\" class=\"dataframe\">\n",
       "  <thead>\n",
       "    <tr style=\"text-align: right;\">\n",
       "      <th></th>\n",
       "      <th>inventory_key</th>\n",
       "      <th>last_update</th>\n",
       "      <th>rental_rate</th>\n",
       "      <th>film_id</th>\n",
       "    </tr>\n",
       "  </thead>\n",
       "  <tbody>\n",
       "    <tr>\n",
       "      <th>0</th>\n",
       "      <td>1</td>\n",
       "      <td>2006-02-15 05:09:17</td>\n",
       "      <td>0.99</td>\n",
       "      <td>1</td>\n",
       "    </tr>\n",
       "    <tr>\n",
       "      <th>1</th>\n",
       "      <td>2</td>\n",
       "      <td>2006-02-15 05:09:17</td>\n",
       "      <td>0.99</td>\n",
       "      <td>1</td>\n",
       "    </tr>\n",
       "  </tbody>\n",
       "</table>\n",
       "</div>"
      ],
      "text/plain": [
       "   inventory_key         last_update  rental_rate  film_id\n",
       "0              1 2006-02-15 05:09:17         0.99        1\n",
       "1              2 2006-02-15 05:09:17         0.99        1"
      ]
     },
     "execution_count": 11,
     "metadata": {},
     "output_type": "execute_result"
    }
   ],
   "source": [
    "df_inventory.rename(columns={\"inventory_id\":\"inventory_key\"}, inplace=True)\n",
    "\n",
    "df_inventory.head(2)"
   ]
  },
  {
   "cell_type": "code",
   "execution_count": 12,
   "id": "bb47de2e-a117-472a-8b88-5251c55499dd",
   "metadata": {},
   "outputs": [
    {
     "data": {
      "text/html": [
       "<div>\n",
       "<style scoped>\n",
       "    .dataframe tbody tr th:only-of-type {\n",
       "        vertical-align: middle;\n",
       "    }\n",
       "\n",
       "    .dataframe tbody tr th {\n",
       "        vertical-align: top;\n",
       "    }\n",
       "\n",
       "    .dataframe thead th {\n",
       "        text-align: right;\n",
       "    }\n",
       "</style>\n",
       "<table border=\"1\" class=\"dataframe\">\n",
       "  <thead>\n",
       "    <tr style=\"text-align: right;\">\n",
       "      <th></th>\n",
       "      <th>staff_key</th>\n",
       "      <th>first_name</th>\n",
       "      <th>last_name</th>\n",
       "      <th>address_id</th>\n",
       "      <th>picture</th>\n",
       "      <th>email</th>\n",
       "      <th>store_id</th>\n",
       "      <th>active</th>\n",
       "      <th>username</th>\n",
       "      <th>password</th>\n",
       "      <th>last_update</th>\n",
       "    </tr>\n",
       "  </thead>\n",
       "  <tbody>\n",
       "    <tr>\n",
       "      <th>0</th>\n",
       "      <td>1</td>\n",
       "      <td>Mike</td>\n",
       "      <td>Hillyer</td>\n",
       "      <td>3</td>\n",
       "      <td>...</td>\n",
       "      <td>Mike.Hillyer@sakilastaff.com</td>\n",
       "      <td>1</td>\n",
       "      <td>1</td>\n",
       "      <td>Mike</td>\n",
       "      <td>8cb2237d0679ca88db6464eac60da96345513964</td>\n",
       "      <td>2006-02-15 03:57:16</td>\n",
       "    </tr>\n",
       "    <tr>\n",
       "      <th>1</th>\n",
       "      <td>2</td>\n",
       "      <td>Jon</td>\n",
       "      <td>Stephens</td>\n",
       "      <td>4</td>\n",
       "      <td>NaN</td>\n",
       "      <td>Jon.Stephens@sakilastaff.com</td>\n",
       "      <td>2</td>\n",
       "      <td>1</td>\n",
       "      <td>Jon</td>\n",
       "      <td>NaN</td>\n",
       "      <td>2006-02-15 03:57:16</td>\n",
       "    </tr>\n",
       "  </tbody>\n",
       "</table>\n",
       "</div>"
      ],
      "text/plain": [
       "   staff_key first_name last_name  address_id picture  \\\n",
       "0          1       Mike   Hillyer           3     ...   \n",
       "1          2        Jon  Stephens           4     NaN   \n",
       "\n",
       "                          email  store_id  active username  \\\n",
       "0  Mike.Hillyer@sakilastaff.com         1       1     Mike   \n",
       "1  Jon.Stephens@sakilastaff.com         2       1      Jon   \n",
       "\n",
       "                                   password          last_update  \n",
       "0  8cb2237d0679ca88db6464eac60da96345513964  2006-02-15 03:57:16  \n",
       "1                                       NaN  2006-02-15 03:57:16  "
      ]
     },
     "execution_count": 12,
     "metadata": {},
     "output_type": "execute_result"
    }
   ],
   "source": [
    "df_staff.rename(columns={\"staff_id\":\"staff_key\"}, inplace=True)\n",
    "\n",
    "df_staff.head(2)"
   ]
  },
  {
   "cell_type": "code",
   "execution_count": 13,
   "id": "97be01b5-6b2d-4ebd-8877-e93347970ade",
   "metadata": {},
   "outputs": [
    {
     "data": {
      "text/html": [
       "<div>\n",
       "<style scoped>\n",
       "    .dataframe tbody tr th:only-of-type {\n",
       "        vertical-align: middle;\n",
       "    }\n",
       "\n",
       "    .dataframe tbody tr th {\n",
       "        vertical-align: top;\n",
       "    }\n",
       "\n",
       "    .dataframe thead th {\n",
       "        text-align: right;\n",
       "    }\n",
       "</style>\n",
       "<table border=\"1\" class=\"dataframe\">\n",
       "  <thead>\n",
       "    <tr style=\"text-align: right;\">\n",
       "      <th></th>\n",
       "      <th>customer_key</th>\n",
       "      <th>store_id</th>\n",
       "      <th>first_name</th>\n",
       "      <th>last_name</th>\n",
       "      <th>email</th>\n",
       "      <th>address_id</th>\n",
       "      <th>active</th>\n",
       "      <th>create_date</th>\n",
       "      <th>last_update</th>\n",
       "    </tr>\n",
       "  </thead>\n",
       "  <tbody>\n",
       "    <tr>\n",
       "      <th>0</th>\n",
       "      <td>1</td>\n",
       "      <td>1</td>\n",
       "      <td>MARY</td>\n",
       "      <td>SMITH</td>\n",
       "      <td>MARY.SMITH@sakilacustomer.org</td>\n",
       "      <td>5</td>\n",
       "      <td>1</td>\n",
       "      <td>2006-02-14 22:04:36</td>\n",
       "      <td>2006-02-15 04:57:20</td>\n",
       "    </tr>\n",
       "    <tr>\n",
       "      <th>1</th>\n",
       "      <td>2</td>\n",
       "      <td>1</td>\n",
       "      <td>PATRICIA</td>\n",
       "      <td>JOHNSON</td>\n",
       "      <td>PATRICIA.JOHNSON@sakilacustomer.org</td>\n",
       "      <td>6</td>\n",
       "      <td>1</td>\n",
       "      <td>2006-02-14 22:04:36</td>\n",
       "      <td>2006-02-15 04:57:20</td>\n",
       "    </tr>\n",
       "  </tbody>\n",
       "</table>\n",
       "</div>"
      ],
      "text/plain": [
       "   customer_key  store_id first_name last_name  \\\n",
       "0             1         1       MARY     SMITH   \n",
       "1             2         1   PATRICIA   JOHNSON   \n",
       "\n",
       "                                 email  address_id  active  \\\n",
       "0        MARY.SMITH@sakilacustomer.org           5       1   \n",
       "1  PATRICIA.JOHNSON@sakilacustomer.org           6       1   \n",
       "\n",
       "           create_date          last_update  \n",
       "0  2006-02-14 22:04:36  2006-02-15 04:57:20  \n",
       "1  2006-02-14 22:04:36  2006-02-15 04:57:20  "
      ]
     },
     "execution_count": 13,
     "metadata": {},
     "output_type": "execute_result"
    }
   ],
   "source": [
    "df_customer.rename(columns={\"customer_id\":\"customer_key\"}, inplace=True)\n",
    "\n",
    "df_customer.head(2)"
   ]
  },
  {
   "cell_type": "markdown",
   "id": "7b70e584-659b-4bc2-bafe-45da99770df4",
   "metadata": {},
   "source": [
    "#### Create and populate fact table"
   ]
  },
  {
   "cell_type": "code",
   "execution_count": null,
   "id": "3ea435f4-f86a-478c-9454-56e80a4f0d61",
   "metadata": {},
   "outputs": [],
   "source": [
    "sql_rental = \"SELECT * FROM sakila.rental;\"\n",
    "df_fact_rental = get_dataframe(user_id, pwd, host_name, src_dbname, sql_rental)\n",
    "\n",
    "df_fact_rental = pd.merge(df_fact_rental, df_payment, on='rental_id', how='inner')\n",
    "\n",
    "df_fact_rental.head(2)"
   ]
  },
  {
   "cell_type": "markdown",
   "id": "248fa6fb-ec0b-4c2f-86a1-5aa71a50e9a8",
   "metadata": {},
   "source": [
    "#### Perform additional transformations to fact table"
   ]
  },
  {
   "cell_type": "code",
   "execution_count": null,
   "id": "9c6459d3-039a-45d3-afde-02ebbd349a7b",
   "metadata": {},
   "outputs": [],
   "source": [
    "df_fact_rental.rename(columns={\"rental_id\":\"fact_rental_key\", \"inventory_id\":\"inventory_key\", \"customer_id\":\"customer_key\"\n",
    "                               , \"staff_id\":\"staff_key\"}, inplace=True)\n",
    "\n",
    "ordered_columns = ['fact_rental_key','inventory_key','customer_key','staff_key','rental_date','return_date', 'amount',\n",
    "                   'last_update']\n",
    "df_fact_rental = df_fact_rental[ordered_columns]\n",
    "\n",
    "df_fact_rental.head(2)"
   ]
  },
  {
   "cell_type": "markdown",
   "id": "d5da7a42-7cf3-4b81-9db3-597baeb10dc1",
   "metadata": {
    "tags": []
   },
   "source": [
    "#### Get the data from the date dimension table"
   ]
  },
  {
   "cell_type": "code",
   "execution_count": null,
   "id": "c39f9c4e-273a-461f-9ba7-5998c3fd4b29",
   "metadata": {
    "tags": []
   },
   "outputs": [],
   "source": [
    "df_fact_rental['rental_date'] = pd.to_datetime(df_fact_rental['rental_date']).dt.date\n",
    "df_fact_rental['return_date'] = pd.to_datetime(df_fact_rental['return_date']).dt.date"
   ]
  },
  {
   "cell_type": "code",
   "execution_count": null,
   "id": "8908160a-6188-47f6-8f11-12c7ed951c3d",
   "metadata": {},
   "outputs": [],
   "source": [
    "sql_dim_date = \"SELECT date_key, full_date FROM sakila.dim_date;\"\n",
    "df_dim_date = get_dataframe(user_id, pwd, host_name, src_dbname, sql_dim_date)\n",
    "df_dim_date.full_date = pd.to_datetime(df_dim_date['full_date']).dt.date\n",
    "df_dim_date.head(2)"
   ]
  },
  {
   "cell_type": "markdown",
   "id": "5c1780d3-bb5b-42b9-973d-47d9bdb3e5c0",
   "metadata": {},
   "source": [
    "#### Lookup the DateKeys from the Date Dim table"
   ]
  },
  {
   "cell_type": "code",
   "execution_count": null,
   "id": "46f085af-6a92-4a8f-87f2-202305f77392",
   "metadata": {},
   "outputs": [],
   "source": [
    "df_dim_rental_date = df_dim_date.rename(columns={\"date_key\" : \"rental_date_key\", \"full_date\" : \"rental_date\"})\n",
    "df_fact_rental = pd.merge(df_fact_rental, df_dim_rental_date, on='rental_date', how='inner')\n",
    "df_fact_rental.drop(['rental_date'], axis=1, inplace=True)\n",
    "df_fact_rental.head(2)"
   ]
  },
  {
   "cell_type": "code",
   "execution_count": null,
   "id": "2ddd4f9c-526c-4e33-9c6f-f7fdce78dd8f",
   "metadata": {},
   "outputs": [],
   "source": [
    "df_dim_return_date = df_dim_date.rename(columns={\"date_key\" : \"return_date_key\", \"full_date\" : \"return_date\"})\n",
    "df_fact_rental = pd.merge(df_fact_rental, df_dim_return_date, on='return_date', how='inner')\n",
    "df_fact_rental.drop(['return_date'], axis=1, inplace=True)\n",
    "df_fact_rental.head(2)"
   ]
  },
  {
   "cell_type": "markdown",
   "id": "c7839af5-8472-41db-83c5-16ffc309bf62",
   "metadata": {},
   "source": [
    "#### Write dataframe back to database"
   ]
  },
  {
   "cell_type": "code",
   "execution_count": null,
   "id": "9f8e09df-000c-4402-bf90-9107bb8041f9",
   "metadata": {},
   "outputs": [],
   "source": [
    "table_name = \"fact_rental\"\n",
    "primary_key = \"fact_rental_key\"\n",
    "db_operation = \"insert\"\n",
    "\n",
    "set_dataframe(user_id, pwd, host_name, dst_dbname, df_fact_rental, table_name, primary_key, db_operation)"
   ]
  },
  {
   "cell_type": "markdown",
   "id": "195e92c9-40c0-43af-a5e9-304c7048123a",
   "metadata": {},
   "source": [
    "#### Load the transformed data frames into the new data warehouse"
   ]
  },
  {
   "cell_type": "code",
   "execution_count": null,
   "id": "47691c2f-f8ae-462b-9716-8bc653237e47",
   "metadata": {},
   "outputs": [],
   "source": [
    "db_operation = \"insert\"\n",
    "\n",
    "tables = [('dim_inventory', df_inventory, 'inventory_key'),\n",
    "         ('dim_staff', df_staff, 'staff_key'),\n",
    "          ('dim_customer', df_customer, 'customer_key'),\n",
    "         ('dim_date', df_dim_date, 'date_key')]"
   ]
  },
  {
   "cell_type": "code",
   "execution_count": null,
   "id": "d342db1f-016b-450a-9a81-170a16f412f5",
   "metadata": {},
   "outputs": [],
   "source": [
    "for table_name, dataframe, primary_key in tables:\n",
    "    set_dataframe(user_id, pwd, host_name, dst_dbname, dataframe, table_name, primary_key, db_operation)"
   ]
  },
  {
   "cell_type": "markdown",
   "id": "e61a2291-5272-4a9a-bc13-42f84209c8cd",
   "metadata": {},
   "source": [
    "### Testing the data warehouse"
   ]
  },
  {
   "cell_type": "markdown",
   "id": "0e780192-265d-459e-ae59-175a3a2ace19",
   "metadata": {},
   "source": [
    "#### This test returns the last names of customers who have spent the most money on movie rentals in descending order"
   ]
  },
  {
   "cell_type": "code",
   "execution_count": null,
   "id": "08b343cc-c576-409f-b052-83ab731a6c05",
   "metadata": {},
   "outputs": [],
   "source": [
    "sql_test = \"\"\"\n",
    "    SELECT customer.`last_name` as `customer_name`,\n",
    "        SUM(rental.`amount`) AS `total_amount_spent`\n",
    "    FROM `{0}`.`fact_rental` AS rental\n",
    "    INNER JOIN `{0}`.dim_customer AS customer\n",
    "    ON rental.customer_key = customer.customer_key\n",
    "    GROUP BY customer.`last_name`\n",
    "    ORDER BY total_amount_spent DESC;\n",
    "    \"\"\".format(dst_dbname)\n",
    "\n",
    "df_test = get_dataframe(user_id, pwd, host_name, src_dbname, sql_test)"
   ]
  },
  {
   "cell_type": "code",
   "execution_count": null,
   "id": "27c59ea7-02fc-45a4-bd49-62f5c5032305",
   "metadata": {
    "tags": []
   },
   "outputs": [],
   "source": [
    "df_test.head()"
   ]
  },
  {
   "cell_type": "markdown",
   "id": "172f554a-c446-49af-8d52-e7d5603bc37e",
   "metadata": {},
   "source": [
    "#### This test returns the total sales of the two staff members, Jon and Mike"
   ]
  },
  {
   "cell_type": "code",
   "execution_count": null,
   "id": "a21d4d09-1b36-4c3c-bd34-09ca38f50b76",
   "metadata": {},
   "outputs": [],
   "source": [
    "sql_test2 = \"\"\"\n",
    "    SELECT staff.`first_name` as `employee_name`,\n",
    "        SUM(rental.`amount`) AS `total_sales`\n",
    "    FROM `{0}`.`fact_rental` AS rental\n",
    "    INNER JOIN `{0}`.dim_staff AS staff\n",
    "    ON rental.staff_key = staff.staff_key\n",
    "    GROUP BY staff.`first_name`\n",
    "    ORDER BY total_sales DESC;\n",
    "    \"\"\".format(dst_dbname)\n",
    "\n",
    "df_test2 = get_dataframe(user_id, pwd, host_name, src_dbname, sql_test2)"
   ]
  },
  {
   "cell_type": "code",
   "execution_count": null,
   "id": "2c2a4a49-ee34-4c5b-8bed-2bb16097059e",
   "metadata": {},
   "outputs": [],
   "source": [
    "df_test2.head()"
   ]
  }
 ],
 "metadata": {
  "kernelspec": {
   "display_name": "Python 3 (ipykernel)",
   "language": "python",
   "name": "python3"
  },
  "language_info": {
   "codemirror_mode": {
    "name": "ipython",
    "version": 3
   },
   "file_extension": ".py",
   "mimetype": "text/x-python",
   "name": "python",
   "nbconvert_exporter": "python",
   "pygments_lexer": "ipython3",
   "version": "3.8.13"
  }
 },
 "nbformat": 4,
 "nbformat_minor": 5
}
